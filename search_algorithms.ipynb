{
 "cells": [
  {
   "cell_type": "markdown",
   "id": "34c0c12d",
   "metadata": {},
   "source": [
    "# Search Algorithms\n",
    "\n",
    "Question: ***Alice has some cards with numbers written on them. She arranges the cards in decreasing order, and lays them out face down in a sequence on a table. She challenges Bob to pick out the card containing a given number by turning over as few cards as possible. Write a function to help Bob locate the card.***\n",
    "\n",
    "Answer: This can be implemented using the Linear Search/ binary search algorithm"
   ]
  },
  {
   "cell_type": "markdown",
   "id": "c676a16b",
   "metadata": {},
   "source": [
    "## How to approach a problem?\n",
    "\n",
    "1. State the problem clearly. Identify the input & output formats.\n",
    "2. Come up with some example inputs & outputs. Try to cover all edge cases.\n",
    "3. Come up with a correct solution for the problem. State it in plain English.\n",
    "4. Implement the solution and test it using example inputs. Fix bugs, if any.\n",
    "5. Analyze the algorithm's complexity and identify inefficiencies, if any.\n",
    "6. Apply the right technique to overcome the inefficiency. Repeat steps 3 to 6."
   ]
  },
  {
   "cell_type": "code",
   "execution_count": 63,
   "id": "1e526ea6",
   "metadata": {},
   "outputs": [],
   "source": [
    "#Create sample input and output\n",
    "sample = {'input': {'cards': [13, 11, 10, 7, 4, 3, 0], \n",
    "                     'query': 7}, \n",
    "          'output': 3}"
   ]
  },
  {
   "cell_type": "code",
   "execution_count": 64,
   "id": "6187b7d6",
   "metadata": {},
   "outputs": [],
   "source": [
    "#create the signature function\n",
    "def find_card(cards, query):\n",
    "    pass"
   ]
  },
  {
   "cell_type": "code",
   "execution_count": 65,
   "id": "9a6366c6",
   "metadata": {},
   "outputs": [
    {
     "data": {
      "text/plain": [
       "False"
      ]
     },
     "execution_count": 65,
     "metadata": {},
     "output_type": "execute_result"
    }
   ],
   "source": [
    "#Testing\n",
    "result = find_card(**sample['input'])\n",
    "result == sample['output']"
   ]
  },
  {
   "cell_type": "markdown",
   "id": "a241f4be",
   "metadata": {},
   "source": [
    "### Define all the cases \n",
    "\n",
    "1. The number query occurs somewhere in the middle of the list cards.\n",
    "2. query is the first element in cards.\n",
    "3. query is the last element in cards.\n",
    "4. The list cards contains just one element, which is query.\n",
    "5. The list cards does not contain number query.\n",
    "6. The list cards is empty.\n",
    "7. The list cards contains repeating numbers.\n",
    "8. The number query occurs at more than one position in cards."
   ]
  },
  {
   "cell_type": "code",
   "execution_count": 66,
   "id": "34ff01a6",
   "metadata": {},
   "outputs": [],
   "source": [
    "sample_cases = []\n",
    "\n",
    "# query occurs in the middle\n",
    "sample_cases.append(sample)\n",
    "\n",
    "# query occurs in second last\n",
    "sample_cases.append({\n",
    "    'input': {\n",
    "        'cards': [13, 11, 10, 7, 4, 3, 1, 0],\n",
    "        'query': 1\n",
    "    },\n",
    "    'output': 6\n",
    "})"
   ]
  },
  {
   "cell_type": "code",
   "execution_count": 67,
   "id": "821b5afa",
   "metadata": {},
   "outputs": [],
   "source": [
    "# query is the first element\n",
    "sample_cases.append({\n",
    "    'input': {\n",
    "        'cards': [4, 2, 1, -1],\n",
    "        'query': 4\n",
    "    },\n",
    "    'output': 0\n",
    "})"
   ]
  },
  {
   "cell_type": "code",
   "execution_count": 68,
   "id": "87498e02",
   "metadata": {},
   "outputs": [],
   "source": [
    "# query is the last element\n",
    "sample_cases.append({\n",
    "    'input': {\n",
    "        'cards': [3, -1, -9, -127],\n",
    "        'query': -127\n",
    "    },\n",
    "    'output': 3\n",
    "})"
   ]
  },
  {
   "cell_type": "code",
   "execution_count": 69,
   "id": "82308e7d",
   "metadata": {},
   "outputs": [],
   "source": [
    "# cards contains just one element, query\n",
    "sample_cases.append({\n",
    "    'input': {\n",
    "        'cards': [6],\n",
    "        'query': 6\n",
    "    },\n",
    "    'output': 0 \n",
    "})"
   ]
  },
  {
   "cell_type": "code",
   "execution_count": 70,
   "id": "71e97215",
   "metadata": {},
   "outputs": [],
   "source": [
    "# cards does not contain query \n",
    "sample_cases.append({\n",
    "    'input': {\n",
    "        'cards': [9, 7, 5, 2, -9],\n",
    "        'query': 4\n",
    "    },\n",
    "    'output': -1\n",
    "})"
   ]
  },
  {
   "cell_type": "code",
   "execution_count": 71,
   "id": "70aee46e",
   "metadata": {},
   "outputs": [],
   "source": [
    "# cards is empty\n",
    "sample_cases.append({\n",
    "    'input': {\n",
    "        'cards': [],\n",
    "        'query': 7\n",
    "    },\n",
    "    'output': -1\n",
    "})"
   ]
  },
  {
   "cell_type": "code",
   "execution_count": 72,
   "id": "f5bc3b02",
   "metadata": {},
   "outputs": [],
   "source": [
    "# numbers can repeat in cards\n",
    "sample_cases.append({\n",
    "    'input': {\n",
    "        'cards': [8, 8, 6, 6, 6, 6, 6, 3, 2, 2, 2, 0, 0, 0],\n",
    "        'query': 3\n",
    "    },\n",
    "    'output': 7\n",
    "})"
   ]
  },
  {
   "cell_type": "code",
   "execution_count": 73,
   "id": "5f5dc813",
   "metadata": {},
   "outputs": [],
   "source": [
    "# query occurs multiple times\n",
    "sample_cases.append({\n",
    "    'input': {\n",
    "        'cards': [8, 8, 6, 6, 6, 6, 6, 6, 3, 2, 2, 2, 0, 0, 0],\n",
    "        'query': 6\n",
    "    },\n",
    "    'output': 2\n",
    "})"
   ]
  },
  {
   "cell_type": "code",
   "execution_count": 74,
   "id": "9e9c7e84",
   "metadata": {},
   "outputs": [
    {
     "data": {
      "text/plain": [
       "[{'input': {'cards': [13, 11, 10, 7, 4, 3, 0], 'query': 7}, 'output': 3},\n",
       " {'input': {'cards': [13, 11, 10, 7, 4, 3, 1, 0], 'query': 1}, 'output': 6},\n",
       " {'input': {'cards': [4, 2, 1, -1], 'query': 4}, 'output': 0},\n",
       " {'input': {'cards': [3, -1, -9, -127], 'query': -127}, 'output': 3},\n",
       " {'input': {'cards': [6], 'query': 6}, 'output': 0},\n",
       " {'input': {'cards': [9, 7, 5, 2, -9], 'query': 4}, 'output': -1},\n",
       " {'input': {'cards': [], 'query': 7}, 'output': -1},\n",
       " {'input': {'cards': [8, 8, 6, 6, 6, 6, 6, 3, 2, 2, 2, 0, 0, 0], 'query': 3},\n",
       "  'output': 7},\n",
       " {'input': {'cards': [8, 8, 6, 6, 6, 6, 6, 6, 3, 2, 2, 2, 0, 0, 0],\n",
       "   'query': 6},\n",
       "  'output': 2}]"
      ]
     },
     "execution_count": 74,
     "metadata": {},
     "output_type": "execute_result"
    }
   ],
   "source": [
    "sample_cases"
   ]
  },
  {
   "cell_type": "markdown",
   "id": "38e656c2",
   "metadata": {},
   "source": [
    "## Solution\n",
    "Now that we have the sample examples and the function signature, we can start modifying the function.."
   ]
  },
  {
   "cell_type": "markdown",
   "id": "3b7a5dfe",
   "metadata": {},
   "source": [
    "### 1. Linear Search Algorithm\n",
    "1. Create a variable position with the value 0.\n",
    "2. Check whether the number at index position in card equals query.\n",
    "3. If it does, position is the answer and can be returned from the function\n",
    "4. If not, increment the value of position by 1, and repeat steps 2 to 5 till we reach the last position.\n",
    "5. If the number was not found, return -1."
   ]
  },
  {
   "cell_type": "code",
   "execution_count": 106,
   "id": "a1a684cb",
   "metadata": {},
   "outputs": [],
   "source": [
    "def find_card(cards, query):\n",
    "    #initial position\n",
    "    position = 0\n",
    "    \n",
    "    print('Cards:', cards)\n",
    "    print('Query:', query)\n",
    "    \n",
    "    while True:\n",
    "        #if the query is found in position\n",
    "        print('position:', position)\n",
    "        if(cards[position] == query):\n",
    "            return position\n",
    "        \n",
    "        #incrementing position \n",
    "        position += 1\n",
    "        \n",
    "        #if query not found in cards\n",
    "        if (position == len(cards)):\n",
    "            return -1            "
   ]
  },
  {
   "cell_type": "code",
   "execution_count": 107,
   "id": "04dff53c",
   "metadata": {},
   "outputs": [
    {
     "name": "stdout",
     "output_type": "stream",
     "text": [
      "Cards: [13, 11, 10, 7, 4, 3, 0]\n",
      "Query: 7\n",
      "position: 0\n",
      "position: 1\n",
      "position: 2\n",
      "position: 3\n",
      "True \n",
      "\n",
      "Cards: [13, 11, 10, 7, 4, 3, 1, 0]\n",
      "Query: 1\n",
      "position: 0\n",
      "position: 1\n",
      "position: 2\n",
      "position: 3\n",
      "position: 4\n",
      "position: 5\n",
      "position: 6\n",
      "True \n",
      "\n",
      "Cards: [4, 2, 1, -1]\n",
      "Query: 4\n",
      "position: 0\n",
      "True \n",
      "\n",
      "Cards: [3, -1, -9, -127]\n",
      "Query: -127\n",
      "position: 0\n",
      "position: 1\n",
      "position: 2\n",
      "position: 3\n",
      "True \n",
      "\n",
      "Cards: [6]\n",
      "Query: 6\n",
      "position: 0\n",
      "True \n",
      "\n",
      "Cards: [9, 7, 5, 2, -9]\n",
      "Query: 4\n",
      "position: 0\n",
      "position: 1\n",
      "position: 2\n",
      "position: 3\n",
      "position: 4\n",
      "True \n",
      "\n",
      "Cards: []\n",
      "Query: 7\n",
      "position: 0\n"
     ]
    },
    {
     "ename": "IndexError",
     "evalue": "list index out of range",
     "output_type": "error",
     "traceback": [
      "\u001b[1;31m---------------------------------------------------------------------------\u001b[0m",
      "\u001b[1;31mIndexError\u001b[0m                                Traceback (most recent call last)",
      "Cell \u001b[1;32mIn[107], line 3\u001b[0m\n\u001b[0;32m      1\u001b[0m \u001b[38;5;66;03m#checking answers\u001b[39;00m\n\u001b[0;32m      2\u001b[0m \u001b[38;5;28;01mfor\u001b[39;00m i \u001b[38;5;129;01min\u001b[39;00m sample_cases:\n\u001b[1;32m----> 3\u001b[0m     \u001b[38;5;28mprint\u001b[39m(\u001b[43mfind_card\u001b[49m\u001b[43m(\u001b[49m\u001b[38;5;241;43m*\u001b[39;49m\u001b[38;5;241;43m*\u001b[39;49m\u001b[43mi\u001b[49m\u001b[43m[\u001b[49m\u001b[38;5;124;43m'\u001b[39;49m\u001b[38;5;124;43minput\u001b[39;49m\u001b[38;5;124;43m'\u001b[39;49m\u001b[43m]\u001b[49m\u001b[43m)\u001b[49m\u001b[38;5;241m==\u001b[39mi[\u001b[38;5;124m'\u001b[39m\u001b[38;5;124moutput\u001b[39m\u001b[38;5;124m'\u001b[39m], \u001b[38;5;124m'\u001b[39m\u001b[38;5;130;01m\\n\u001b[39;00m\u001b[38;5;124m'\u001b[39m)\n",
      "Cell \u001b[1;32mIn[106], line 11\u001b[0m, in \u001b[0;36mfind_card\u001b[1;34m(cards, query)\u001b[0m\n\u001b[0;32m      8\u001b[0m \u001b[38;5;28;01mwhile\u001b[39;00m \u001b[38;5;28;01mTrue\u001b[39;00m:\n\u001b[0;32m      9\u001b[0m     \u001b[38;5;66;03m#if the query is found in position\u001b[39;00m\n\u001b[0;32m     10\u001b[0m     \u001b[38;5;28mprint\u001b[39m(\u001b[38;5;124m'\u001b[39m\u001b[38;5;124mposition:\u001b[39m\u001b[38;5;124m'\u001b[39m, position)\n\u001b[1;32m---> 11\u001b[0m     \u001b[38;5;28;01mif\u001b[39;00m(\u001b[43mcards\u001b[49m\u001b[43m[\u001b[49m\u001b[43mposition\u001b[49m\u001b[43m]\u001b[49m \u001b[38;5;241m==\u001b[39m query):\n\u001b[0;32m     12\u001b[0m         \u001b[38;5;28;01mreturn\u001b[39;00m position\n\u001b[0;32m     14\u001b[0m     \u001b[38;5;66;03m#incrementing position \u001b[39;00m\n",
      "\u001b[1;31mIndexError\u001b[0m: list index out of range"
     ]
    }
   ],
   "source": [
    "#checking answers\n",
    "for i in sample_cases:\n",
    "    print(find_card(**i['input'])==i['output'], '\\n')"
   ]
  },
  {
   "cell_type": "markdown",
   "id": "06fcf2f5",
   "metadata": {},
   "source": [
    "Error due to list index out of range... (Empty list edge case)"
   ]
  },
  {
   "cell_type": "code",
   "execution_count": 125,
   "id": "617845a4",
   "metadata": {},
   "outputs": [],
   "source": [
    "#modifying function\n",
    "def find_card(cards, query):\n",
    "    #initial position\n",
    "    position = 0\n",
    "    \n",
    "    print('Cards:', cards)\n",
    "    print('Query:', query)\n",
    "    \n",
    "    #iterate when position is lesser than length of cards\n",
    "    while position<len(cards):\n",
    "        print(position)\n",
    "        if cards[position]==query:\n",
    "            return position\n",
    "        \n",
    "        position+=1\n",
    "        \n",
    "    #item not present      \n",
    "    return -1"
   ]
  },
  {
   "cell_type": "code",
   "execution_count": 126,
   "id": "42d218ab",
   "metadata": {},
   "outputs": [
    {
     "name": "stdout",
     "output_type": "stream",
     "text": [
      "Cards: [13, 11, 10, 7, 4, 3, 0]\n",
      "Query: 7\n",
      "0\n",
      "1\n",
      "2\n",
      "3\n",
      "True \n",
      "\n",
      "Cards: [13, 11, 10, 7, 4, 3, 1, 0]\n",
      "Query: 1\n",
      "0\n",
      "1\n",
      "2\n",
      "3\n",
      "4\n",
      "5\n",
      "6\n",
      "True \n",
      "\n",
      "Cards: [4, 2, 1, -1]\n",
      "Query: 4\n",
      "0\n",
      "True \n",
      "\n",
      "Cards: [3, -1, -9, -127]\n",
      "Query: -127\n",
      "0\n",
      "1\n",
      "2\n",
      "3\n",
      "True \n",
      "\n",
      "Cards: [6]\n",
      "Query: 6\n",
      "0\n",
      "True \n",
      "\n",
      "Cards: [9, 7, 5, 2, -9]\n",
      "Query: 4\n",
      "0\n",
      "1\n",
      "2\n",
      "3\n",
      "4\n",
      "True \n",
      "\n",
      "Cards: []\n",
      "Query: 7\n",
      "True \n",
      "\n",
      "Cards: [8, 8, 6, 6, 6, 6, 6, 3, 2, 2, 2, 0, 0, 0]\n",
      "Query: 3\n",
      "0\n",
      "1\n",
      "2\n",
      "3\n",
      "4\n",
      "5\n",
      "6\n",
      "7\n",
      "True \n",
      "\n",
      "Cards: [8, 8, 6, 6, 6, 6, 6, 6, 3, 2, 2, 2, 0, 0, 0]\n",
      "Query: 6\n",
      "0\n",
      "1\n",
      "2\n",
      "True \n",
      "\n"
     ]
    }
   ],
   "source": [
    "#checking answers\n",
    "for i in sample_cases:\n",
    "    print(find_card(**i['input'])==i['output'], '\\n')"
   ]
  },
  {
   "cell_type": "code",
   "execution_count": null,
   "id": "2c0efee7",
   "metadata": {},
   "outputs": [],
   "source": []
  }
 ],
 "metadata": {
  "kernelspec": {
   "display_name": "Python 3 (ipykernel)",
   "language": "python",
   "name": "python3"
  },
  "language_info": {
   "codemirror_mode": {
    "name": "ipython",
    "version": 3
   },
   "file_extension": ".py",
   "mimetype": "text/x-python",
   "name": "python",
   "nbconvert_exporter": "python",
   "pygments_lexer": "ipython3",
   "version": "3.11.2"
  }
 },
 "nbformat": 4,
 "nbformat_minor": 5
}
